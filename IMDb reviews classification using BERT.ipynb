{
  "nbformat": 4,
  "nbformat_minor": 0,
  "metadata": {
    "colab": {
      "name": "9_My. Анализ тональности.ipynb",
      "provenance": [],
      "collapsed_sections": []
    },
    "kernelspec": {
      "display_name": "Python 3",
      "language": "python",
      "name": "python3"
    },
    "language_info": {
      "codemirror_mode": {
        "name": "ipython",
        "version": 3
      },
      "file_extension": ".py",
      "mimetype": "text/x-python",
      "name": "python",
      "nbconvert_exporter": "python",
      "pygments_lexer": "ipython3",
      "version": "3.6.8"
    },
    "widgets": {
      "application/vnd.jupyter.widget-state+json": {
        "251f90b569e7414c8111cff7fcdd0c67": {
          "model_module": "@jupyter-widgets/controls",
          "model_name": "HBoxModel",
          "state": {
            "_view_name": "HBoxView",
            "_dom_classes": [],
            "_model_name": "HBoxModel",
            "_view_module": "@jupyter-widgets/controls",
            "_model_module_version": "1.5.0",
            "_view_count": null,
            "_view_module_version": "1.5.0",
            "box_style": "",
            "layout": "IPY_MODEL_8602b87446b345e8a7ce173692db5317",
            "_model_module": "@jupyter-widgets/controls",
            "children": [
              "IPY_MODEL_09a060e2d0574ec4a563bffcbfb3d0c1",
              "IPY_MODEL_4712bc61a9e04c2cac8a128c14f1d371"
            ]
          }
        },
        "8602b87446b345e8a7ce173692db5317": {
          "model_module": "@jupyter-widgets/base",
          "model_name": "LayoutModel",
          "state": {
            "_view_name": "LayoutView",
            "grid_template_rows": null,
            "right": null,
            "justify_content": null,
            "_view_module": "@jupyter-widgets/base",
            "overflow": null,
            "_model_module_version": "1.2.0",
            "_view_count": null,
            "flex_flow": null,
            "width": null,
            "min_width": null,
            "border": null,
            "align_items": null,
            "bottom": null,
            "_model_module": "@jupyter-widgets/base",
            "top": null,
            "grid_column": null,
            "overflow_y": null,
            "overflow_x": null,
            "grid_auto_flow": null,
            "grid_area": null,
            "grid_template_columns": null,
            "flex": null,
            "_model_name": "LayoutModel",
            "justify_items": null,
            "grid_row": null,
            "max_height": null,
            "align_content": null,
            "visibility": null,
            "align_self": null,
            "height": null,
            "min_height": null,
            "padding": null,
            "grid_auto_rows": null,
            "grid_gap": null,
            "max_width": null,
            "order": null,
            "_view_module_version": "1.2.0",
            "grid_template_areas": null,
            "object_position": null,
            "object_fit": null,
            "grid_auto_columns": null,
            "margin": null,
            "display": null,
            "left": null
          }
        },
        "09a060e2d0574ec4a563bffcbfb3d0c1": {
          "model_module": "@jupyter-widgets/controls",
          "model_name": "FloatProgressModel",
          "state": {
            "_view_name": "ProgressView",
            "style": "IPY_MODEL_b5c8209989ba48209871d2863933ffb9",
            "_dom_classes": [],
            "description": "100%",
            "_model_name": "FloatProgressModel",
            "bar_style": "success",
            "max": 250,
            "_view_module": "@jupyter-widgets/controls",
            "_model_module_version": "1.5.0",
            "value": 250,
            "_view_count": null,
            "_view_module_version": "1.5.0",
            "orientation": "horizontal",
            "min": 0,
            "description_tooltip": null,
            "_model_module": "@jupyter-widgets/controls",
            "layout": "IPY_MODEL_662aeebee7cc4f7d97b3de95078db44b"
          }
        },
        "4712bc61a9e04c2cac8a128c14f1d371": {
          "model_module": "@jupyter-widgets/controls",
          "model_name": "HTMLModel",
          "state": {
            "_view_name": "HTMLView",
            "style": "IPY_MODEL_2dd212c1f065471593aca6535074d711",
            "_dom_classes": [],
            "description": "",
            "_model_name": "HTMLModel",
            "placeholder": "​",
            "_view_module": "@jupyter-widgets/controls",
            "_model_module_version": "1.5.0",
            "value": " 250/250 [17:53&lt;00:00,  4.29s/it]",
            "_view_count": null,
            "_view_module_version": "1.5.0",
            "description_tooltip": null,
            "_model_module": "@jupyter-widgets/controls",
            "layout": "IPY_MODEL_5bf2b1d2ca0a463abdab354d68766b73"
          }
        },
        "b5c8209989ba48209871d2863933ffb9": {
          "model_module": "@jupyter-widgets/controls",
          "model_name": "ProgressStyleModel",
          "state": {
            "_view_name": "StyleView",
            "_model_name": "ProgressStyleModel",
            "description_width": "initial",
            "_view_module": "@jupyter-widgets/base",
            "_model_module_version": "1.5.0",
            "_view_count": null,
            "_view_module_version": "1.2.0",
            "bar_color": null,
            "_model_module": "@jupyter-widgets/controls"
          }
        },
        "662aeebee7cc4f7d97b3de95078db44b": {
          "model_module": "@jupyter-widgets/base",
          "model_name": "LayoutModel",
          "state": {
            "_view_name": "LayoutView",
            "grid_template_rows": null,
            "right": null,
            "justify_content": null,
            "_view_module": "@jupyter-widgets/base",
            "overflow": null,
            "_model_module_version": "1.2.0",
            "_view_count": null,
            "flex_flow": null,
            "width": null,
            "min_width": null,
            "border": null,
            "align_items": null,
            "bottom": null,
            "_model_module": "@jupyter-widgets/base",
            "top": null,
            "grid_column": null,
            "overflow_y": null,
            "overflow_x": null,
            "grid_auto_flow": null,
            "grid_area": null,
            "grid_template_columns": null,
            "flex": null,
            "_model_name": "LayoutModel",
            "justify_items": null,
            "grid_row": null,
            "max_height": null,
            "align_content": null,
            "visibility": null,
            "align_self": null,
            "height": null,
            "min_height": null,
            "padding": null,
            "grid_auto_rows": null,
            "grid_gap": null,
            "max_width": null,
            "order": null,
            "_view_module_version": "1.2.0",
            "grid_template_areas": null,
            "object_position": null,
            "object_fit": null,
            "grid_auto_columns": null,
            "margin": null,
            "display": null,
            "left": null
          }
        },
        "2dd212c1f065471593aca6535074d711": {
          "model_module": "@jupyter-widgets/controls",
          "model_name": "DescriptionStyleModel",
          "state": {
            "_view_name": "StyleView",
            "_model_name": "DescriptionStyleModel",
            "description_width": "",
            "_view_module": "@jupyter-widgets/base",
            "_model_module_version": "1.5.0",
            "_view_count": null,
            "_view_module_version": "1.2.0",
            "_model_module": "@jupyter-widgets/controls"
          }
        },
        "5bf2b1d2ca0a463abdab354d68766b73": {
          "model_module": "@jupyter-widgets/base",
          "model_name": "LayoutModel",
          "state": {
            "_view_name": "LayoutView",
            "grid_template_rows": null,
            "right": null,
            "justify_content": null,
            "_view_module": "@jupyter-widgets/base",
            "overflow": null,
            "_model_module_version": "1.2.0",
            "_view_count": null,
            "flex_flow": null,
            "width": null,
            "min_width": null,
            "border": null,
            "align_items": null,
            "bottom": null,
            "_model_module": "@jupyter-widgets/base",
            "top": null,
            "grid_column": null,
            "overflow_y": null,
            "overflow_x": null,
            "grid_auto_flow": null,
            "grid_area": null,
            "grid_template_columns": null,
            "flex": null,
            "_model_name": "LayoutModel",
            "justify_items": null,
            "grid_row": null,
            "max_height": null,
            "align_content": null,
            "visibility": null,
            "align_self": null,
            "height": null,
            "min_height": null,
            "padding": null,
            "grid_auto_rows": null,
            "grid_gap": null,
            "max_width": null,
            "order": null,
            "_view_module_version": "1.2.0",
            "grid_template_areas": null,
            "object_position": null,
            "object_fit": null,
            "grid_auto_columns": null,
            "margin": null,
            "display": null,
            "left": null
          }
        }
      }
    },
    "accelerator": "GPU"
  },
  "cells": [
    {
      "cell_type": "markdown",
      "metadata": {
        "id": "-VtZ246ZTKia"
      },
      "source": [
        "# Sentiment analysis using BERT"
      ]
    },
    {
      "cell_type": "markdown",
      "metadata": {
        "id": "jNKaJz5j_ylj"
      },
      "source": [
        "### Based on course [\"Нейронные сети и обработка текста\"](https://stepik.org/course/54098/)\r\n",
        "\r\n",
        "If you are going to read this notebook, I recommend you to open it in [google colab](https://colab.research.google.com/notebooks/intro.ipynb#recent=true) and start reading from [the beginning of the analysis](#scrollTo=guw6ZNtaswKc), using the attached hyperlinks on functions and classes if you need to."
      ]
    },
    {
      "cell_type": "markdown",
      "metadata": {
        "id": "RX_ZDhicpHkV"
      },
      "source": [
        "## Required libraries, functions and classes:"
      ]
    },
    {
      "cell_type": "code",
      "metadata": {
        "id": "0NmMdkZO8R6q"
      },
      "source": [
        "!pip3 install transformers --quiet\r\n",
        "!pip3 install pytorch-nlp --quiet\r\n",
        "!pip3 install livelossplot --quiet"
      ],
      "execution_count": 1,
      "outputs": []
    },
    {
      "cell_type": "code",
      "metadata": {
        "id": "Ok002ceNB8E7"
      },
      "source": [
        "import matplotlib.pyplot as plt\n",
        "%matplotlib inline\n",
        "\n",
        "import numpy as np\n",
        "\n",
        "from sklearn.metrics import accuracy_score\n",
        "\n",
        "import torch\n",
        "from torch.utils.data import Dataset, DataLoader, random_split\n",
        "\n",
        "from torchnlp.datasets import imdb_dataset\n",
        "\n",
        "from transformers import BertForSequenceClassification, BertTokenizer, AdamW\n",
        "\n",
        "from tqdm.notebook import tqdm\n",
        "\n",
        "from livelossplot import PlotLosses\n",
        "\n",
        "from copy import deepcopy\n",
        "\n",
        "import datetime\n",
        "\n",
        "from traceback import format_exc"
      ],
      "execution_count": 2,
      "outputs": []
    },
    {
      "cell_type": "code",
      "metadata": {
        "id": "zDKYdWiNji-e"
      },
      "source": [
        "def init_random_seed(value=0):\r\n",
        "    np.random.seed(value)\r\n",
        "    torch.manual_seed(value)\r\n",
        "    torch.cuda.manual_seed(value)\r\n",
        "    torch.backends.cudnn.deterministic = True\r\n",
        "\r\n",
        "init_random_seed()"
      ],
      "execution_count": 3,
      "outputs": []
    },
    {
      "cell_type": "code",
      "metadata": {
        "id": "dw0hbcXOiqLX"
      },
      "source": [
        "def divisors(n):\r\n",
        "    i = 1\r\n",
        "    divisors = []\r\n",
        "    while i <= n**0.5:\r\n",
        "        if (n % i == 0) : \r\n",
        "            if (n / i == i):\r\n",
        "                divisors.append(i)\r\n",
        "            else:\r\n",
        "                divisors.extend([i, n // i])\r\n",
        "        i += 1\r\n",
        "    return sorted(divisors)"
      ],
      "execution_count": 4,
      "outputs": []
    },
    {
      "cell_type": "code",
      "metadata": {
        "id": "3U35TpDMjod7"
      },
      "source": [
        "def copy_data_to_device(data, device):\r\n",
        "    if torch.is_tensor(data):\r\n",
        "        return data.to(device)\r\n",
        "    elif isinstance(data, (list, tuple)):\r\n",
        "        return [copy_data_to_device(elem, device) for elem in data]\r\n",
        "    raise ValueError('Invalid data type {}'.format(type(data)))"
      ],
      "execution_count": 5,
      "outputs": []
    },
    {
      "cell_type": "code",
      "metadata": {
        "id": "Oc0ySmT0RsWN"
      },
      "source": [
        "class BertDataset(Dataset):\r\n",
        "    def __init__(self, tokenizer, *data, max_len=None, no_label=False):\r\n",
        "        self.no_label = no_label\r\n",
        "        if self.no_label:\r\n",
        "            self.texts = data\r\n",
        "        else:\r\n",
        "            self.texts, self.labels = data\r\n",
        "        self.tokenizer = tokenizer\r\n",
        "        self.max_len = max_len if max_len is not None else max(map(len, self.texts))\r\n",
        "        \r\n",
        "    def __len__(self):\r\n",
        "        return len(self.texts)\r\n",
        "\r\n",
        "    def __getitem__(self, item):\r\n",
        "        text = self.texts[item]\r\n",
        "    \r\n",
        "        encoding = tokenizer.encode_plus(\r\n",
        "                    text,\r\n",
        "                    max_length=self.max_len,\r\n",
        "                    add_special_tokens=True,\r\n",
        "                    return_token_type_ids=True,\r\n",
        "                    return_attention_mask=True,\r\n",
        "                    padding='max_length',\r\n",
        "                    truncation=True,\r\n",
        "                    return_tensors='pt',\r\n",
        "                    )\r\n",
        "        \r\n",
        "        if self.no_label:\r\n",
        "            return (encoding['input_ids'].squeeze(), encoding['token_type_ids'].squeeze(), encoding['attention_mask'].squeeze())\r\n",
        "        \r\n",
        "        label = 1 if self.labels[item] == \"pos\" else 0\r\n",
        "        return (encoding['input_ids'].squeeze(), encoding['token_type_ids'].squeeze(), encoding['attention_mask'].squeeze()), torch.tensor(label)"
      ],
      "execution_count": 6,
      "outputs": []
    },
    {
      "cell_type": "code",
      "metadata": {
        "id": "xF5m0iQmfcYj"
      },
      "source": [
        "def evaluate(model, dataloader, device, return_score=False, show_bar=False):\r\n",
        "\r\n",
        "    model.eval()\r\n",
        "    mean_loss = 0\r\n",
        "\r\n",
        "    if return_score:\r\n",
        "        full_true_labels, full_pred_labels = [], []\r\n",
        "\r\n",
        "    with torch.no_grad():\r\n",
        "        for batch_x, batch_y in tqdm(dataloader) if show_bar else dataloader:\r\n",
        "            batch_x = copy_data_to_device(batch_x, device)\r\n",
        "            labels = copy_data_to_device(batch_y, device)\r\n",
        "            input_ids, token_type_ids, attention_mask = batch_x\r\n",
        "            \r\n",
        "            outputs = model(input_ids=input_ids, token_type_ids=token_type_ids, attention_mask=attention_mask, labels=labels)\r\n",
        "            loss = outputs.loss\r\n",
        "\r\n",
        "            if return_score:\r\n",
        "                    pred_batch_logits = outputs.logits\r\n",
        "                    pred_batch_logits = pred_batch_logits.detach().cpu().numpy()\r\n",
        "                    true_batch_labels = labels.to('cpu').numpy()\r\n",
        "                    full_pred_labels.extend(np.argmax(pred_batch_logits, axis=1))\r\n",
        "                    full_true_labels.extend(true_batch_labels)\r\n",
        "         \r\n",
        "            mean_loss += float(loss)\r\n",
        "\r\n",
        "        mean_loss /= len(dataloader)\r\n",
        "        \r\n",
        "        if return_score:\r\n",
        "            return mean_loss, accuracy_score(full_true_labels, full_pred_labels)\r\n",
        "            \r\n",
        "    return mean_loss"
      ],
      "execution_count": 7,
      "outputs": []
    },
    {
      "cell_type": "code",
      "metadata": {
        "id": "-k9mUc-sc8pG"
      },
      "source": [
        "def train_eval_loop(model, train_dataset, val_dataset, lr=1e-3, epoch_n=100, batch_size_train=32,\r\n",
        "                    batch_size_val=32, accumulation_steps=None, device=None, early_stopping_patience=10, weight_decay=0, data_loader_ctor=DataLoader,\r\n",
        "                    optimizer_ctor=None, optimizer_parameters=None, lr_scheduler_ctor=None, dataloader_workers_n=0, draw_loss=False, \r\n",
        "                    show_bar=False, show_lr=False, verbose_freq=1, draw_batch_loss=False, draw_accumulated_batch_loss=False):\r\n",
        "\r\n",
        "    if device is None:\r\n",
        "        device = \"cuda\" if torch.cuda.is_available() else \"cpu\"\r\n",
        "    device = torch.device(device)\r\n",
        "    model.to(device)\r\n",
        "\r\n",
        "    if optimizer_ctor is None:\r\n",
        "        optimizer = torch.optim.Adam(model.parameters(), lr=lr, weight_decay=weight_decay)\r\n",
        "    else:\r\n",
        "        if optimizer_parameters is None:\r\n",
        "            optimizer = optimizer_ctor(model.parameters(), lr=lr)\r\n",
        "        else:\r\n",
        "            optimizer = optimizer_ctor(optimizer_parameters)\r\n",
        "    \r\n",
        "    if lr_scheduler_ctor is not None:\r\n",
        "        lr_scheduler = lr_scheduler_ctor(optimizer)\r\n",
        "    else:\r\n",
        "        lr_scheduler = None\r\n",
        "\r\n",
        "    if draw_loss:\r\n",
        "        liveplot = PlotLosses()\r\n",
        "    if draw_batch_loss:\r\n",
        "        liveplot_batch = PlotLosses(step_names=f\"batch (of size {batch_size_train})\\n{len(train_dataset) // batch_size_train} batches total\")\r\n",
        "    if draw_accumulated_batch_loss:\r\n",
        "        assert accumulation_steps is not None\r\n",
        "        liveplot_accumulated_batch = PlotLosses(step_names=f\"accumulated batch (contains {accumulation_steps} batches of size {batch_size_train})\\n{len(train_dataset) // batch_size_train // accumulation_steps} accumulated batches total\")\r\n",
        "        mean_accumulated_batch_loss = 0\r\n",
        "\r\n",
        "    train_dataloader = data_loader_ctor(train_dataset, batch_size=batch_size_train, shuffle=True, num_workers=dataloader_workers_n)\r\n",
        "    val_dataloader = data_loader_ctor(val_dataset, batch_size=batch_size_val, num_workers=dataloader_workers_n)\r\n",
        "\r\n",
        "    best_val_loss = float(\"inf\")\r\n",
        "    best_epoch_i = 0\r\n",
        "    best_model = deepcopy(model)\r\n",
        "    \r\n",
        "    for epoch_i in range(epoch_n):\r\n",
        "        try:\r\n",
        "            if not draw_loss:\r\n",
        "                epoch_start = datetime.datetime.now()\r\n",
        "\r\n",
        "            model.train()\r\n",
        "            mean_train_loss = 0\r\n",
        "\r\n",
        "            for i, (batch_x, batch_y) in enumerate(tqdm(train_dataloader)) if show_bar else enumerate(train_dataloader):\r\n",
        "                batch_x = copy_data_to_device(batch_x, device)\r\n",
        "                batch_y = copy_data_to_device(batch_y, device)\r\n",
        "                input_ids, token_type_ids, attention_mask = batch_x\r\n",
        "\r\n",
        "                loss = model(input_ids=input_ids, token_type_ids=token_type_ids, attention_mask=attention_mask, labels=batch_y).loss\r\n",
        "\r\n",
        "                if accumulation_steps is not None:\r\n",
        "                    loss /= accumulation_steps\r\n",
        "\r\n",
        "                loss.backward()\r\n",
        "\r\n",
        "                if draw_batch_loss:\r\n",
        "                    liveplot_batch.update({'train loss': loss})\r\n",
        "                    liveplot_batch.draw()\r\n",
        "\r\n",
        "                if accumulation_steps is None:\r\n",
        "                    optimizer.step()\r\n",
        "                    model.zero_grad()\r\n",
        "                else:\r\n",
        "                    if draw_accumulated_batch_loss:\r\n",
        "                        mean_accumulated_batch_loss += float(loss)\r\n",
        "                    if (i + 1) % accumulation_steps == 0:\r\n",
        "                        optimizer.step()\r\n",
        "                        model.zero_grad()\r\n",
        "                        if draw_accumulated_batch_loss:\r\n",
        "                            liveplot_accumulated_batch.update({'train loss': mean_accumulated_batch_loss})\r\n",
        "                            liveplot_accumulated_batch.draw()\r\n",
        "                            mean_accumulated_batch_loss = 0\r\n",
        "\r\n",
        "\r\n",
        "                mean_train_loss += float(loss)\r\n",
        "\r\n",
        "            mean_train_loss /= len(train_dataloader)\r\n",
        "\r\n",
        "            mean_val_loss = evaluate(model, val_dataloader, device=device, show_bar=show_bar)\r\n",
        "            \r\n",
        "            if not (draw_loss or draw_batch_loss or draw_accumulated_batch_loss) and epoch_i % verbose_freq == 0:\r\n",
        "                print(f\"Epoch {epoch_i}\")\r\n",
        "                print('{} iterations for training and {} for validation, {:0.2f} sec'.format(len(train_dataloader), len(val_dataloader),\r\n",
        "                                                           (datetime.datetime.now() - epoch_start).total_seconds()))\r\n",
        "                print('Average value of the train loss function:', mean_train_loss)\r\n",
        "                print('Average value of the validation loss function:', mean_val_loss)\r\n",
        "\r\n",
        "            if draw_loss:\r\n",
        "                liveplot.update({'mean loss': mean_train_loss, \"val_mean loss\": mean_val_loss})\r\n",
        "                liveplot.draw()\r\n",
        "\r\n",
        "            if mean_val_loss < best_val_loss:\r\n",
        "                best_epoch_i = epoch_i\r\n",
        "                best_val_loss = mean_val_loss\r\n",
        "                best_model = deepcopy(model)\r\n",
        "                if (not draw_loss) and epoch_i % verbose_freq == 0:\r\n",
        "                    print('New best model!')\r\n",
        "            elif epoch_i - best_epoch_i == early_stopping_patience:\r\n",
        "                print('The model has not improved over the last {} epochs, stop training'.format(\r\n",
        "                    early_stopping_patience))\r\n",
        "                break\r\n",
        "  \r\n",
        "            if lr_scheduler is not None:\r\n",
        "                if isinstance(lr_scheduler, torch.optim.lr_scheduler.ReduceLROnPlateau):\r\n",
        "                    lr_scheduler.step(mean_val_loss)\r\n",
        "                elif isinstance(lr_scheduler, torch.optim.lr_scheduler.StepLR):\r\n",
        "                    lr_scheduler.step()\r\n",
        "                    if show_lr:\r\n",
        "                        print(optimizer.param_groups[0]['lr'])\r\n",
        "                else:\r\n",
        "                    lr_scheduler.step()\r\n",
        "            if not (draw_loss or draw_batch_loss or draw_accumulated_batch_loss) and epoch_i % verbose_freq == 0:\r\n",
        "                print()\r\n",
        "        except KeyboardInterrupt:\r\n",
        "            print('Stopped early by user')\r\n",
        "            break\r\n",
        "        except Exception as ex:\r\n",
        "            print('Error while training: {}\\n{}'.format(ex, format_exc()))\r\n",
        "            break\r\n",
        "\r\n",
        "    return best_val_loss, best_model"
      ],
      "execution_count": 8,
      "outputs": []
    },
    {
      "cell_type": "markdown",
      "metadata": {
        "id": "guw6ZNtaswKc"
      },
      "source": [
        "## Loading [data](https://pytorchnlp.readthedocs.io/en/latest/source/torchnlp.datasets.html#torchnlp.datasets.imdb_dataset) and making train, validation and test [datasets](#scrollTo=Oc0ySmT0RsWN&line=1&uniqifier=1) for BERT:\n"
      ]
    },
    {
      "cell_type": "code",
      "metadata": {
        "id": "s4P7as0NWwcK"
      },
      "source": [
        "train, test = imdb_dataset(train=True, test=True)\r\n",
        "train_texts, train_labels = [t['text'] for t in train], [t['sentiment'] for t in train]\r\n",
        "test_texts, test_labels = [t['text'] for t in test], [t['sentiment'] for t in test]"
      ],
      "execution_count": 9,
      "outputs": []
    },
    {
      "cell_type": "code",
      "metadata": {
        "id": "YgLeMcRIRzVY"
      },
      "source": [
        "tokenizer = BertTokenizer.from_pretrained(\"bert-base-uncased\", do_lower_case=True, do_basic_tokenize=True)"
      ],
      "execution_count": 10,
      "outputs": []
    },
    {
      "cell_type": "code",
      "metadata": {
        "id": "YGlz9UCFR-Sb"
      },
      "source": [
        "MAX_LEN = 512\r\n",
        "full_train_dataset = BertDataset(tokenizer, train_texts, train_labels, max_len=MAX_LEN)\r\n",
        "test_dataset = BertDataset(tokenizer, test_texts, test_labels, max_len=MAX_LEN)\r\n",
        "\r\n",
        "train_size = int(0.8 * len(full_train_dataset))\r\n",
        "val_size = len(full_train_dataset) - train_size\r\n",
        "train_dataset, val_dataset = random_split(full_train_dataset, [train_size, val_size])"
      ],
      "execution_count": 11,
      "outputs": []
    },
    {
      "cell_type": "code",
      "metadata": {
        "id": "_NFa7GVnSXbx",
        "colab": {
          "base_uri": "https://localhost:8080/"
        },
        "outputId": "f378bec8-feb4-4b74-90fe-192ea9d57bdb"
      },
      "source": [
        "print(f\"train set length: {len(train_dataset)}\\n  \\\r\n",
        "val set length: {len(val_dataset)}\\n \\\r\n",
        "test set length: {len(test_dataset)}\")"
      ],
      "execution_count": 12,
      "outputs": [
        {
          "output_type": "stream",
          "text": [
            "train set length: 20000\n",
            "  val set length: 5000\n",
            " test set length: 25000\n"
          ],
          "name": "stdout"
        }
      ]
    },
    {
      "cell_type": "code",
      "metadata": {
        "colab": {
          "base_uri": "https://localhost:8080/"
        },
        "id": "cZwNz6vzimv5",
        "outputId": "ff80be66-ffeb-4312-c79f-1267866b5c50"
      },
      "source": [
        "print(f\"divisors of train dataset size ({len(train_dataset)}) are {divisors(len(train_dataset))}\")\r\n",
        "print(f\"divisors of val dataset size ({len(val_dataset)}) are {divisors(len(val_dataset))}\")\r\n",
        "print(f\"divisors of test dataset size ({len(test_dataset)}) are {divisors(len(test_dataset))}\")\r\n",
        "\r\n",
        "batch_size_train = 5\r\n",
        "batch_size_val = 100\r\n",
        "batch_size_test = 100"
      ],
      "execution_count": 13,
      "outputs": [
        {
          "output_type": "stream",
          "text": [
            "divisors of train dataset size (20000) are [1, 2, 4, 5, 8, 10, 16, 20, 25, 32, 40, 50, 80, 100, 125, 160, 200, 250, 400, 500, 625, 800, 1000, 1250, 2000, 2500, 4000, 5000, 10000, 20000]\n",
            "divisors of val dataset size (5000) are [1, 2, 4, 5, 8, 10, 20, 25, 40, 50, 100, 125, 200, 250, 500, 625, 1000, 1250, 2500, 5000]\n",
            "divisors of test dataset size (25000) are [1, 2, 4, 5, 8, 10, 20, 25, 40, 50, 100, 125, 200, 250, 500, 625, 1000, 1250, 2500, 3125, 5000, 6250, 12500, 25000]\n"
          ],
          "name": "stdout"
        }
      ]
    },
    {
      "cell_type": "markdown",
      "metadata": {
        "id": "zdCdpV6t6sgW"
      },
      "source": [
        "## Loading [BERT for sequence classification](https://huggingface.co/transformers/model_doc/bert.html#transformers.BertForSequenceClassification) and fine-tuning:"
      ]
    },
    {
      "cell_type": "code",
      "metadata": {
        "id": "gFsCTp_mporB"
      },
      "source": [
        "model = BertForSequenceClassification.from_pretrained(\"bert-base-uncased\", num_labels=2)"
      ],
      "execution_count": null,
      "outputs": []
    },
    {
      "cell_type": "code",
      "metadata": {
        "id": "QxSMw0FrptiL"
      },
      "source": [
        "no_decay = [\"bias\", \"LayerNorm.weight\"]\n",
        "optimizer_grouped_parameters = [\n",
        "    {\"params\": [p for n, p in model.named_parameters() if p.requires_grad and not any(nd in n for nd in no_decay)],\n",
        "     \"weight_decay\": 0.01,\n",
        "     \"lr\": 2e-5},\n",
        "    {\"params\": [p for n, p in model.named_parameters() if p.requires_grad and any(nd in n for nd in no_decay)],\n",
        "     \"weight_decay\": 0.0,\n",
        "     \"lr\": 2e-5}\n",
        "]\n",
        "\n",
        "device = \"cuda\" if torch.cuda.is_available() else \"cpu\""
      ],
      "execution_count": 15,
      "outputs": []
    },
    {
      "cell_type": "code",
      "metadata": {
        "colab": {
          "base_uri": "https://localhost:8080/",
          "height": 653
        },
        "id": "4CNt-d5ufDTb",
        "outputId": "5f82db64-aeb0-422a-ede3-89e844d61c10"
      },
      "source": [
        "best_val_loss, best_model = train_eval_loop(model,\r\n",
        "                                            train_dataset,\r\n",
        "                                            val_dataset,\r\n",
        "                                            epoch_n=5,\r\n",
        "                                            batch_size_train=batch_size_train,\r\n",
        "                                            batch_size_val=batch_size_val,\r\n",
        "                                            accumulation_steps=10,\r\n",
        "                                            early_stopping_patience=1,\r\n",
        "                                            optimizer_ctor=AdamW,\r\n",
        "                                            optimizer_parameters=optimizer_grouped_parameters,\r\n",
        "                                            lr_scheduler_ctor=None,\r\n",
        "                                            dataloader_workers_n=5,\r\n",
        "                                            draw_loss=False,\r\n",
        "                                            show_bar=False,\r\n",
        "                                            draw_accumulated_batch_loss=True)\r\n",
        "\r\n",
        "print(f\"best val loss:{best_val_loss:.7f}\")"
      ],
      "execution_count": 16,
      "outputs": [
        {
          "output_type": "display_data",
          "data": {
            "image/png": "[encoded data removed]",
            "text/plain": [
              "<Figure size 864x576 with 2 Axes>"
            ]
          },
          "metadata": {
            "tags": [],
            "needs_background": "light"
          }
        },
        {
          "output_type": "stream",
          "text": [
            "train loss\n",
            "\ttrain loss       \t (min:    0.005, max:    0.748, cur:    0.011)\n",
            "The model has not improved over the last 1 epochs, stop training\n",
            "best val loss:0.1796198\n"
          ],
          "name": "stdout"
        }
      ]
    },
    {
      "cell_type": "code",
      "metadata": {
        "colab": {
          "base_uri": "https://localhost:8080/",
          "height": 100,
          "referenced_widgets": [
            "251f90b569e7414c8111cff7fcdd0c67",
            "8602b87446b345e8a7ce173692db5317",
            "09a060e2d0574ec4a563bffcbfb3d0c1",
            "4712bc61a9e04c2cac8a128c14f1d371",
            "b5c8209989ba48209871d2863933ffb9",
            "662aeebee7cc4f7d97b3de95078db44b",
            "2dd212c1f065471593aca6535074d711",
            "5bf2b1d2ca0a463abdab354d68766b73"
          ]
        },
        "id": "VEo7a5RUpCid",
        "outputId": "ecc70c05-e8e2-48e0-ab1f-714f0805c304"
      },
      "source": [
        "test_dataloader = DataLoader(test_dataset, batch_size=batch_size_test, num_workers=5)\r\n",
        "\r\n",
        "test_loss, test_score = evaluate(best_model, test_dataloader, device=device, return_score=True, show_bar=True)\r\n",
        "\r\n",
        "print(f\"Test sample mean loss: {test_loss:.7f}\")\r\n",
        "print(f\"Test sample accuracy: {test_score * 100:.7f}\")"
      ],
      "execution_count": 17,
      "outputs": [
        {
          "output_type": "display_data",
          "data": {
            "application/vnd.jupyter.widget-view+json": {
              "model_id": "251f90b569e7414c8111cff7fcdd0c67",
              "version_minor": 0,
              "version_major": 2
            },
            "text/plain": [
              "HBox(children=(FloatProgress(value=0.0, max=250.0), HTML(value='')))"
            ]
          },
          "metadata": {
            "tags": []
          }
        },
        {
          "output_type": "stream",
          "text": [
            "\n",
            "Test sample mean loss: 0.1731645\n",
            "Test sample accuracy: 93.5760000\n"
          ],
          "name": "stdout"
        }
      ]
    }
  ]
}